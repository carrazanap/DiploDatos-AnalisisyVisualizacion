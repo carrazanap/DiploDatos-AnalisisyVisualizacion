{
 "cells": [
  {
   "cell_type": "markdown",
   "metadata": {
    "id": "cltNUzHKzBht"
   },
   "source": [
    "#Análisis y Visualización de datos\n",
    "# Entregable #1\n",
    "# ¿Cuáles son los lenguajes de programación asociados a los mejores salarios?"
   ]
  },
  {
   "cell_type": "markdown",
   "metadata": {
    "id": "I7-ccKxf4mH4"
   },
   "source": [
    "## Lectura del Dataset"
   ]
  },
  {
   "cell_type": "code",
   "execution_count": 1,
   "metadata": {
    "id": "TnSjxYoW4HZQ"
   },
   "outputs": [],
   "source": [
    "import io\n",
    "import matplotlib\n",
    "import matplotlib.pyplot as plt\n",
    "import numpy\n",
    "import pandas as pd\n",
    "import seaborn\n",
    "import re\n",
    "import requests\n"
   ]
  },
  {
   "cell_type": "code",
   "execution_count": 2,
   "metadata": {
    "id": "dzFy3KSescSB"
   },
   "outputs": [],
   "source": [
    "seaborn.set_context('talk')\n",
    "url = 'https://cs.famaf.unc.edu.ar/~mteruel/datasets/diplodatos/sysarmy_survey_2020_processed.csv'\n",
    "dataset_metadata = {\n",
    "  'year': 2019,\n",
    "  'part': 2,\n",
    "  'skiprows': 0,\n",
    "  'publish_date': '2019-08-15',\n",
    "  'minimum_salary': 12500, # https://es.wikipedia.org/wiki/Anexo:Salario_m%C3%ADnimo_en_Argentina\n",
    "}\n",
    "df = pd.read_csv(url)\n",
    "raw_dataframe = None\n",
    "source = requests.get(url.format(dataset_metadata['year'], dataset_metadata['part'])).content\n",
    "raw_dataframe = pd.read_csv(io.StringIO(source.decode('utf-8')), skiprows=dataset_metadata['skiprows'], thousands='.', decimal=',')"
   ]
  },
  {
   "cell_type": "code",
   "execution_count": 21,
   "metadata": {},
   "outputs": [
    {
     "data": {
      "text/html": [
       "<div>\n",
       "<style scoped>\n",
       "    .dataframe tbody tr th:only-of-type {\n",
       "        vertical-align: middle;\n",
       "    }\n",
       "\n",
       "    .dataframe tbody tr th {\n",
       "        vertical-align: top;\n",
       "    }\n",
       "\n",
       "    .dataframe thead th {\n",
       "        text-align: right;\n",
       "    }\n",
       "</style>\n",
       "<table border=\"1\" class=\"dataframe\">\n",
       "  <thead>\n",
       "    <tr style=\"text-align: right;\">\n",
       "      <th></th>\n",
       "      <th>profile_gender</th>\n",
       "      <th>profile_age</th>\n",
       "      <th>work_country</th>\n",
       "      <th>work_province</th>\n",
       "      <th>profile_years_experience</th>\n",
       "      <th>work_years_in_company</th>\n",
       "      <th>work_years_in_current_position</th>\n",
       "      <th>work_people_in_charge_of</th>\n",
       "      <th>profile_studies_level</th>\n",
       "      <th>profile_studies_level_state</th>\n",
       "      <th>profile_career</th>\n",
       "      <th>profile_university</th>\n",
       "      <th>profile_specialization_courses</th>\n",
       "      <th>profile_open_source_contributions</th>\n",
       "      <th>profile_programming_as_hobby</th>\n",
       "      <th>work_role</th>\n",
       "      <th>tools_platform</th>\n",
       "      <th>tools_programming_languages</th>\n",
       "      <th>tools_frameworks</th>\n",
       "      <th>tools_data_bases</th>\n",
       "      <th>tools_qa_testing</th>\n",
       "      <th>tools_IDEs</th>\n",
       "      <th>tools_work_pc_os</th>\n",
       "      <th>tools_cellphone_os</th>\n",
       "      <th>work_on_call_duty</th>\n",
       "      <th>salary_on_call_duty_charge</th>\n",
       "      <th>work_on_call_duty_charge_type</th>\n",
       "      <th>work_contract_type</th>\n",
       "      <th>salary_monthly_BRUTO</th>\n",
       "      <th>salary_monthly_NETO</th>\n",
       "      <th>salary_in_usd</th>\n",
       "      <th>salary_satisfaction</th>\n",
       "      <th>salary_comparison_last_semester</th>\n",
       "      <th>salary_has_bonus</th>\n",
       "      <th>salary_bonus_tied_to</th>\n",
       "      <th>salary_inflation_adjustment_2020</th>\n",
       "      <th>salary_percentage_inflation_adjustment_2020</th>\n",
       "      <th>salary_month_last_inflation_adjustment</th>\n",
       "      <th>work_has_violence_situations</th>\n",
       "      <th>profile_sexual_orientation</th>\n",
       "      <th>profile_has_disabilities</th>\n",
       "      <th>profile_has_disabilities_hiring_difficulties</th>\n",
       "      <th>company_employee_number</th>\n",
       "      <th>company_main_activity</th>\n",
       "      <th>company_recommended</th>\n",
       "      <th>company_diversity_policies</th>\n",
       "      <th>company_extra_benefits</th>\n",
       "      <th>company_best_companies_city</th>\n",
       "      <th>cured_programming_languages</th>\n",
       "    </tr>\n",
       "  </thead>\n",
       "  <tbody>\n",
       "    <tr>\n",
       "      <th>0</th>\n",
       "      <td>Mujer</td>\n",
       "      <td>26</td>\n",
       "      <td>Argentina</td>\n",
       "      <td>Ciudad Autónoma de Buenos Aires</td>\n",
       "      <td>3.0</td>\n",
       "      <td>3.0</td>\n",
       "      <td>3.0</td>\n",
       "      <td>0</td>\n",
       "      <td>Universitario</td>\n",
       "      <td>En curso</td>\n",
       "      <td>Ingeniería en Sistemas de Información</td>\n",
       "      <td>UTN - Universidad Tecnológica Nacional</td>\n",
       "      <td>Sí, los pagó un empleador</td>\n",
       "      <td>No</td>\n",
       "      <td>Sí</td>\n",
       "      <td>Consultant</td>\n",
       "      <td>Ninguna</td>\n",
       "      <td>Ninguno</td>\n",
       "      <td>Ninguno</td>\n",
       "      <td>Ninguna</td>\n",
       "      <td>Ninguna</td>\n",
       "      <td>Ninguno</td>\n",
       "      <td>GNU/Linux</td>\n",
       "      <td>Android</td>\n",
       "      <td>No</td>\n",
       "      <td>0.0</td>\n",
       "      <td>Bruto</td>\n",
       "      <td>Full-Time</td>\n",
       "      <td>53000.0</td>\n",
       "      <td>43000.0</td>\n",
       "      <td>NaN</td>\n",
       "      <td>1</td>\n",
       "      <td>1</td>\n",
       "      <td>No</td>\n",
       "      <td>No recibo bono</td>\n",
       "      <td>No</td>\n",
       "      <td>0.0</td>\n",
       "      <td>0</td>\n",
       "      <td>En mi trabajo actual</td>\n",
       "      <td>Homosexual</td>\n",
       "      <td>NaN</td>\n",
       "      <td>NaN</td>\n",
       "      <td>501-1000</td>\n",
       "      <td>Servicios / Consultoría de Software / Digital</td>\n",
       "      <td>7</td>\n",
       "      <td>2</td>\n",
       "      <td>Capacitaciones y/o cursos, Comidas pagas / sub...</td>\n",
       "      <td>NaN</td>\n",
       "      <td>[ninguno]</td>\n",
       "    </tr>\n",
       "    <tr>\n",
       "      <th>1</th>\n",
       "      <td>Hombre</td>\n",
       "      <td>29</td>\n",
       "      <td>Argentina</td>\n",
       "      <td>Corrientes</td>\n",
       "      <td>5.0</td>\n",
       "      <td>2.0</td>\n",
       "      <td>2.0</td>\n",
       "      <td>4</td>\n",
       "      <td>Universitario</td>\n",
       "      <td>En curso</td>\n",
       "      <td>Ingeniería en Sistemas de Información</td>\n",
       "      <td>UTN - Universidad Tecnológica Nacional</td>\n",
       "      <td>Sí, de forma particular, Sí, los pagó un emple...</td>\n",
       "      <td>No</td>\n",
       "      <td>Sí</td>\n",
       "      <td>Developer</td>\n",
       "      <td>Docker, Google Cloud Platform/App Engine</td>\n",
       "      <td>HTML, Javascript, Python</td>\n",
       "      <td>Django, jQuery</td>\n",
       "      <td>Informix, MySQL, PostgreSQL</td>\n",
       "      <td>Ninguna</td>\n",
       "      <td>IPython / Jupyter, Sublime Text, Visual Studio...</td>\n",
       "      <td>GNU/Linux</td>\n",
       "      <td>Android</td>\n",
       "      <td>No</td>\n",
       "      <td>0.0</td>\n",
       "      <td>Bruto</td>\n",
       "      <td>Full-Time</td>\n",
       "      <td>79000.0</td>\n",
       "      <td>63000.0</td>\n",
       "      <td>NaN</td>\n",
       "      <td>2</td>\n",
       "      <td>2</td>\n",
       "      <td>Menos de un sueldo</td>\n",
       "      <td>Performance de la compañía</td>\n",
       "      <td>Uno</td>\n",
       "      <td>10.0</td>\n",
       "      <td>1</td>\n",
       "      <td>Jamás</td>\n",
       "      <td>Heterosexual</td>\n",
       "      <td>Visual</td>\n",
       "      <td>No</td>\n",
       "      <td>201-500</td>\n",
       "      <td>Otras industrias</td>\n",
       "      <td>8</td>\n",
       "      <td>9</td>\n",
       "      <td>Horarios flexibles, Stock options / RSUs, Viát...</td>\n",
       "      <td>NaN</td>\n",
       "      <td>[html, javascript, python]</td>\n",
       "    </tr>\n",
       "  </tbody>\n",
       "</table>\n",
       "</div>"
      ],
      "text/plain": [
       "  profile_gender  profile_age work_country                    work_province  \\\n",
       "0          Mujer           26    Argentina  Ciudad Autónoma de Buenos Aires   \n",
       "1         Hombre           29    Argentina                       Corrientes   \n",
       "\n",
       "   profile_years_experience  work_years_in_company  \\\n",
       "0                       3.0                    3.0   \n",
       "1                       5.0                    2.0   \n",
       "\n",
       "   work_years_in_current_position  work_people_in_charge_of  \\\n",
       "0                             3.0                         0   \n",
       "1                             2.0                         4   \n",
       "\n",
       "  profile_studies_level profile_studies_level_state  \\\n",
       "0         Universitario                    En curso   \n",
       "1         Universitario                    En curso   \n",
       "\n",
       "                          profile_career  \\\n",
       "0  Ingeniería en Sistemas de Información   \n",
       "1  Ingeniería en Sistemas de Información   \n",
       "\n",
       "                       profile_university  \\\n",
       "0  UTN - Universidad Tecnológica Nacional   \n",
       "1  UTN - Universidad Tecnológica Nacional   \n",
       "\n",
       "                      profile_specialization_courses  \\\n",
       "0                          Sí, los pagó un empleador   \n",
       "1  Sí, de forma particular, Sí, los pagó un emple...   \n",
       "\n",
       "  profile_open_source_contributions profile_programming_as_hobby   work_role  \\\n",
       "0                                No                           Sí  Consultant   \n",
       "1                                No                           Sí   Developer   \n",
       "\n",
       "                             tools_platform tools_programming_languages  \\\n",
       "0                                   Ninguna                     Ninguno   \n",
       "1  Docker, Google Cloud Platform/App Engine    HTML, Javascript, Python   \n",
       "\n",
       "  tools_frameworks             tools_data_bases tools_qa_testing  \\\n",
       "0          Ninguno                      Ninguna          Ninguna   \n",
       "1   Django, jQuery  Informix, MySQL, PostgreSQL          Ninguna   \n",
       "\n",
       "                                          tools_IDEs tools_work_pc_os  \\\n",
       "0                                            Ninguno        GNU/Linux   \n",
       "1  IPython / Jupyter, Sublime Text, Visual Studio...        GNU/Linux   \n",
       "\n",
       "  tools_cellphone_os work_on_call_duty  salary_on_call_duty_charge  \\\n",
       "0            Android                No                         0.0   \n",
       "1            Android                No                         0.0   \n",
       "\n",
       "  work_on_call_duty_charge_type work_contract_type  salary_monthly_BRUTO  \\\n",
       "0                         Bruto          Full-Time               53000.0   \n",
       "1                         Bruto          Full-Time               79000.0   \n",
       "\n",
       "   salary_monthly_NETO salary_in_usd  salary_satisfaction  \\\n",
       "0              43000.0           NaN                    1   \n",
       "1              63000.0           NaN                    2   \n",
       "\n",
       "   salary_comparison_last_semester    salary_has_bonus  \\\n",
       "0                                1                  No   \n",
       "1                                2  Menos de un sueldo   \n",
       "\n",
       "         salary_bonus_tied_to salary_inflation_adjustment_2020  \\\n",
       "0              No recibo bono                               No   \n",
       "1  Performance de la compañía                              Uno   \n",
       "\n",
       "   salary_percentage_inflation_adjustment_2020  \\\n",
       "0                                          0.0   \n",
       "1                                         10.0   \n",
       "\n",
       "   salary_month_last_inflation_adjustment work_has_violence_situations  \\\n",
       "0                                       0         En mi trabajo actual   \n",
       "1                                       1                        Jamás   \n",
       "\n",
       "  profile_sexual_orientation profile_has_disabilities  \\\n",
       "0                 Homosexual                      NaN   \n",
       "1               Heterosexual                   Visual   \n",
       "\n",
       "  profile_has_disabilities_hiring_difficulties company_employee_number  \\\n",
       "0                                          NaN                501-1000   \n",
       "1                                           No                 201-500   \n",
       "\n",
       "                           company_main_activity  company_recommended  \\\n",
       "0  Servicios / Consultoría de Software / Digital                    7   \n",
       "1                               Otras industrias                    8   \n",
       "\n",
       "   company_diversity_policies  \\\n",
       "0                           2   \n",
       "1                           9   \n",
       "\n",
       "                              company_extra_benefits  \\\n",
       "0  Capacitaciones y/o cursos, Comidas pagas / sub...   \n",
       "1  Horarios flexibles, Stock options / RSUs, Viát...   \n",
       "\n",
       "  company_best_companies_city cured_programming_languages  \n",
       "0                         NaN                   [ninguno]  \n",
       "1                         NaN  [html, javascript, python]  "
      ]
     },
     "execution_count": 21,
     "metadata": {},
     "output_type": "execute_result"
    }
   ],
   "source": [
    "pd.set_option('display.max_columns', None)\n",
    "df.head(2)"
   ]
  },
  {
   "cell_type": "code",
   "execution_count": 3,
   "metadata": {
    "colab": {
     "base_uri": "https://localhost:8080/"
    },
    "id": "S3QwgVps9Ryu",
    "outputId": "5deee474-d86e-4f8b-d6c9-f9d9719c1760"
   },
   "outputs": [
    {
     "data": {
      "text/plain": [
       "count       5883.00\n",
       "mean       94907.95\n",
       "std        96862.26\n",
       "min            1.00\n",
       "25%        51480.00\n",
       "50%        78000.00\n",
       "75%       106000.00\n",
       "max      2080000.00\n",
       "Name: salary_monthly_NETO, dtype: object"
      ]
     },
     "execution_count": 3,
     "metadata": {},
     "output_type": "execute_result"
    }
   ],
   "source": [
    "df['salary_monthly_NETO'].describe().apply(lambda s: '{0:.2f}'.format(s))"
   ]
  },
  {
   "cell_type": "code",
   "execution_count": 4,
   "metadata": {
    "colab": {
     "base_uri": "https://localhost:8080/"
    },
    "id": "Em5QFIhH9fML",
    "outputId": "e2b88045-dc1e-4df9-ffd9-35e178dd7d60"
   },
   "outputs": [
    {
     "data": {
      "text/plain": [
       "count                 5883.00\n",
       "mean        23131549531284.33\n",
       "std        913815527415422.12\n",
       "min                     10.00\n",
       "25%                 520000.00\n",
       "50%                 781930.00\n",
       "75%                1080000.00\n",
       "max      50779000000000000.00\n",
       "Name: salary_monthly_NETO, dtype: object"
      ]
     },
     "execution_count": 4,
     "metadata": {},
     "output_type": "execute_result"
    }
   ],
   "source": [
    "raw_dataframe['salary_monthly_NETO'].describe().apply(lambda s: '{0:.2f}'.format(s))"
   ]
  },
  {
   "cell_type": "markdown",
   "metadata": {
    "id": "ZDKEvGntAFST"
   },
   "source": [
    "Trabajo más sobre el raw_dataframe, como eleiminando los valores muy altos. Pero la media y std dan muy feos. "
   ]
  },
  {
   "cell_type": "code",
   "execution_count": 5,
   "metadata": {
    "colab": {
     "base_uri": "https://localhost:8080/"
    },
    "id": "seDAkObHAMYF",
    "outputId": "66f4891c-eb9e-4481-8079-c97ba9c1c554"
   },
   "outputs": [
    {
     "data": {
      "text/plain": [
       "count       5647.00\n",
       "mean      823001.01\n",
       "std       468018.41\n",
       "min           10.00\n",
       "25%       500160.00\n",
       "50%       758000.00\n",
       "75%      1030000.00\n",
       "max      2980000.00\n",
       "Name: salary_monthly_NETO, dtype: object"
      ]
     },
     "execution_count": 5,
     "metadata": {},
     "output_type": "execute_result"
    }
   ],
   "source": [
    "raw_dataframe=raw_dataframe[raw_dataframe['salary_monthly_NETO']<3000000]\n",
    "raw_dataframe['salary_monthly_NETO'].describe().apply(lambda s: '{0:.2f}'.format(s))"
   ]
  },
  {
   "cell_type": "code",
   "execution_count": 6,
   "metadata": {
    "colab": {
     "base_uri": "https://localhost:8080/",
     "height": 291
    },
    "id": "Jtum5bfx5D0E",
    "outputId": "c505fb32-e099-4a5d-93a3-f16d4e4e94bb"
   },
   "outputs": [
    {
     "data": {
      "text/html": [
       "<div>\n",
       "<style scoped>\n",
       "    .dataframe tbody tr th:only-of-type {\n",
       "        vertical-align: middle;\n",
       "    }\n",
       "\n",
       "    .dataframe tbody tr th {\n",
       "        vertical-align: top;\n",
       "    }\n",
       "\n",
       "    .dataframe thead th {\n",
       "        text-align: right;\n",
       "    }\n",
       "</style>\n",
       "<table border=\"1\" class=\"dataframe\">\n",
       "  <thead>\n",
       "    <tr style=\"text-align: right;\">\n",
       "      <th></th>\n",
       "      <th>profile_gender</th>\n",
       "      <th>profile_age</th>\n",
       "      <th>work_country</th>\n",
       "      <th>work_province</th>\n",
       "      <th>profile_years_experience</th>\n",
       "      <th>work_years_in_company</th>\n",
       "      <th>work_years_in_current_position</th>\n",
       "      <th>work_people_in_charge_of</th>\n",
       "      <th>profile_studies_level</th>\n",
       "      <th>profile_studies_level_state</th>\n",
       "      <th>...</th>\n",
       "      <th>work_has_violence_situations</th>\n",
       "      <th>profile_sexual_orientation</th>\n",
       "      <th>profile_has_disabilities</th>\n",
       "      <th>profile_has_disabilities_hiring_difficulties</th>\n",
       "      <th>company_employee_number</th>\n",
       "      <th>company_main_activity</th>\n",
       "      <th>company_recommended</th>\n",
       "      <th>company_diversity_policies</th>\n",
       "      <th>company_extra_benefits</th>\n",
       "      <th>company_best_companies_city</th>\n",
       "    </tr>\n",
       "  </thead>\n",
       "  <tbody>\n",
       "    <tr>\n",
       "      <th>0</th>\n",
       "      <td>Mujer</td>\n",
       "      <td>26</td>\n",
       "      <td>Argentina</td>\n",
       "      <td>Ciudad Autónoma de Buenos Aires</td>\n",
       "      <td>3.0</td>\n",
       "      <td>3.0</td>\n",
       "      <td>3.0</td>\n",
       "      <td>0</td>\n",
       "      <td>Universitario</td>\n",
       "      <td>En curso</td>\n",
       "      <td>...</td>\n",
       "      <td>En mi trabajo actual</td>\n",
       "      <td>Homosexual</td>\n",
       "      <td>NaN</td>\n",
       "      <td>NaN</td>\n",
       "      <td>501-1000</td>\n",
       "      <td>Servicios / Consultoría de Software / Digital</td>\n",
       "      <td>7</td>\n",
       "      <td>2</td>\n",
       "      <td>Capacitaciones y/o cursos, Comidas pagas / sub...</td>\n",
       "      <td>NaN</td>\n",
       "    </tr>\n",
       "    <tr>\n",
       "      <th>1</th>\n",
       "      <td>Hombre</td>\n",
       "      <td>29</td>\n",
       "      <td>Argentina</td>\n",
       "      <td>Corrientes</td>\n",
       "      <td>5.0</td>\n",
       "      <td>2.0</td>\n",
       "      <td>2.0</td>\n",
       "      <td>4</td>\n",
       "      <td>Universitario</td>\n",
       "      <td>En curso</td>\n",
       "      <td>...</td>\n",
       "      <td>Jamás</td>\n",
       "      <td>Heterosexual</td>\n",
       "      <td>Visual</td>\n",
       "      <td>No</td>\n",
       "      <td>201-500</td>\n",
       "      <td>Otras industrias</td>\n",
       "      <td>8</td>\n",
       "      <td>9</td>\n",
       "      <td>Horarios flexibles, Stock options / RSUs, Viát...</td>\n",
       "      <td>NaN</td>\n",
       "    </tr>\n",
       "    <tr>\n",
       "      <th>2</th>\n",
       "      <td>Mujer</td>\n",
       "      <td>22</td>\n",
       "      <td>Argentina</td>\n",
       "      <td>Ciudad Autónoma de Buenos Aires</td>\n",
       "      <td>2.0</td>\n",
       "      <td>0.0</td>\n",
       "      <td>0.0</td>\n",
       "      <td>0</td>\n",
       "      <td>Secundario</td>\n",
       "      <td>Completado</td>\n",
       "      <td>...</td>\n",
       "      <td>En un trabajo anterior</td>\n",
       "      <td>Bisexual o queer</td>\n",
       "      <td>NaN</td>\n",
       "      <td>No</td>\n",
       "      <td>2001-5000</td>\n",
       "      <td>Otras industrias</td>\n",
       "      <td>6</td>\n",
       "      <td>9</td>\n",
       "      <td>Clases de gimnasia online, Comidas pagas / sub...</td>\n",
       "      <td>NaN</td>\n",
       "    </tr>\n",
       "  </tbody>\n",
       "</table>\n",
       "<p>3 rows × 48 columns</p>\n",
       "</div>"
      ],
      "text/plain": [
       "  profile_gender  profile_age work_country                    work_province  \\\n",
       "0          Mujer           26    Argentina  Ciudad Autónoma de Buenos Aires   \n",
       "1         Hombre           29    Argentina                       Corrientes   \n",
       "2          Mujer           22    Argentina  Ciudad Autónoma de Buenos Aires   \n",
       "\n",
       "   profile_years_experience  work_years_in_company  \\\n",
       "0                       3.0                    3.0   \n",
       "1                       5.0                    2.0   \n",
       "2                       2.0                    0.0   \n",
       "\n",
       "   work_years_in_current_position  work_people_in_charge_of  \\\n",
       "0                             3.0                         0   \n",
       "1                             2.0                         4   \n",
       "2                             0.0                         0   \n",
       "\n",
       "  profile_studies_level profile_studies_level_state  ...  \\\n",
       "0         Universitario                    En curso  ...   \n",
       "1         Universitario                    En curso  ...   \n",
       "2            Secundario                  Completado  ...   \n",
       "\n",
       "  work_has_violence_situations profile_sexual_orientation  \\\n",
       "0         En mi trabajo actual                 Homosexual   \n",
       "1                        Jamás               Heterosexual   \n",
       "2       En un trabajo anterior           Bisexual o queer   \n",
       "\n",
       "  profile_has_disabilities profile_has_disabilities_hiring_difficulties  \\\n",
       "0                      NaN                                          NaN   \n",
       "1                   Visual                                           No   \n",
       "2                      NaN                                           No   \n",
       "\n",
       "  company_employee_number                          company_main_activity  \\\n",
       "0                501-1000  Servicios / Consultoría de Software / Digital   \n",
       "1                 201-500                               Otras industrias   \n",
       "2               2001-5000                               Otras industrias   \n",
       "\n",
       "  company_recommended company_diversity_policies  \\\n",
       "0                   7                          2   \n",
       "1                   8                          9   \n",
       "2                   6                          9   \n",
       "\n",
       "                              company_extra_benefits  \\\n",
       "0  Capacitaciones y/o cursos, Comidas pagas / sub...   \n",
       "1  Horarios flexibles, Stock options / RSUs, Viát...   \n",
       "2  Clases de gimnasia online, Comidas pagas / sub...   \n",
       "\n",
       "  company_best_companies_city  \n",
       "0                         NaN  \n",
       "1                         NaN  \n",
       "2                         NaN  \n",
       "\n",
       "[3 rows x 48 columns]"
      ]
     },
     "execution_count": 6,
     "metadata": {},
     "output_type": "execute_result"
    }
   ],
   "source": [
    "df[:3]"
   ]
  },
  {
   "cell_type": "code",
   "execution_count": 7,
   "metadata": {
    "colab": {
     "base_uri": "https://localhost:8080/"
    },
    "id": "eifVtAfV3z5Q",
    "outputId": "a12631de-9561-428d-b886-edc6e72fd1ee"
   },
   "outputs": [
    {
     "data": {
      "text/plain": [
       "0       False\n",
       "1        True\n",
       "2       False\n",
       "3       False\n",
       "4        True\n",
       "        ...  \n",
       "6090     True\n",
       "6091    False\n",
       "6092    False\n",
       "6093    False\n",
       "6094    False\n",
       "Name: work_role, Length: 6095, dtype: bool"
      ]
     },
     "execution_count": 7,
     "metadata": {},
     "output_type": "execute_result"
    }
   ],
   "source": [
    "df['work_role']=='Developer'"
   ]
  },
  {
   "cell_type": "markdown",
   "metadata": {
    "id": "matz4NH2xTdi"
   },
   "source": [
    "## Selección de columnas relevantes para analizar"
   ]
  },
  {
   "cell_type": "code",
   "execution_count": 8,
   "metadata": {
    "id": "GC6rgTToxbDw"
   },
   "outputs": [],
   "source": [
    "relevant_columns = ['tools_programming_languages', 'salary_monthly_NETO', 'work_role']"
   ]
  },
  {
   "cell_type": "markdown",
   "metadata": {
    "id": "pZ4LGZOHrOhy"
   },
   "source": [
    "## Preparación de datos: todo lo necesario para facilitar la manipulación de datos y estudio de variables."
   ]
  },
  {
   "cell_type": "code",
   "execution_count": 9,
   "metadata": {
    "colab": {
     "base_uri": "https://localhost:8080/",
     "height": 204
    },
    "id": "XZ3rMyPAsxyn",
    "outputId": "6a45152c-db37-45f3-b519-5aa7e608e506"
   },
   "outputs": [
    {
     "data": {
      "text/html": [
       "<div>\n",
       "<style scoped>\n",
       "    .dataframe tbody tr th:only-of-type {\n",
       "        vertical-align: middle;\n",
       "    }\n",
       "\n",
       "    .dataframe tbody tr th {\n",
       "        vertical-align: top;\n",
       "    }\n",
       "\n",
       "    .dataframe thead th {\n",
       "        text-align: right;\n",
       "    }\n",
       "</style>\n",
       "<table border=\"1\" class=\"dataframe\">\n",
       "  <thead>\n",
       "    <tr style=\"text-align: right;\">\n",
       "      <th></th>\n",
       "      <th>programming_language</th>\n",
       "      <th>tools_programming_languages</th>\n",
       "      <th>salary_monthly_NETO</th>\n",
       "      <th>work_role</th>\n",
       "      <th>cured_programming_languages</th>\n",
       "    </tr>\n",
       "  </thead>\n",
       "  <tbody>\n",
       "    <tr>\n",
       "      <th>0</th>\n",
       "      <td>ninguno</td>\n",
       "      <td>Ninguno</td>\n",
       "      <td>43000.0</td>\n",
       "      <td>Consultant</td>\n",
       "      <td>[ninguno]</td>\n",
       "    </tr>\n",
       "    <tr>\n",
       "      <th>1</th>\n",
       "      <td>html</td>\n",
       "      <td>HTML, Javascript, Python</td>\n",
       "      <td>63000.0</td>\n",
       "      <td>Developer</td>\n",
       "      <td>[html, javascript, python]</td>\n",
       "    </tr>\n",
       "    <tr>\n",
       "      <th>1</th>\n",
       "      <td>javascript</td>\n",
       "      <td>HTML, Javascript, Python</td>\n",
       "      <td>63000.0</td>\n",
       "      <td>Developer</td>\n",
       "      <td>[html, javascript, python]</td>\n",
       "    </tr>\n",
       "    <tr>\n",
       "      <th>1</th>\n",
       "      <td>python</td>\n",
       "      <td>HTML, Javascript, Python</td>\n",
       "      <td>63000.0</td>\n",
       "      <td>Developer</td>\n",
       "      <td>[html, javascript, python]</td>\n",
       "    </tr>\n",
       "    <tr>\n",
       "      <th>2</th>\n",
       "      <td>ninguno</td>\n",
       "      <td>Ninguno</td>\n",
       "      <td>127000.0</td>\n",
       "      <td>Infosec</td>\n",
       "      <td>[ninguno]</td>\n",
       "    </tr>\n",
       "  </tbody>\n",
       "</table>\n",
       "</div>"
      ],
      "text/plain": [
       "  programming_language tools_programming_languages  salary_monthly_NETO  \\\n",
       "0              ninguno                     Ninguno              43000.0   \n",
       "1                 html    HTML, Javascript, Python              63000.0   \n",
       "1           javascript    HTML, Javascript, Python              63000.0   \n",
       "1               python    HTML, Javascript, Python              63000.0   \n",
       "2              ninguno                     Ninguno             127000.0   \n",
       "\n",
       "    work_role cured_programming_languages  \n",
       "0  Consultant                   [ninguno]  \n",
       "1   Developer  [html, javascript, python]  \n",
       "1   Developer  [html, javascript, python]  \n",
       "1   Developer  [html, javascript, python]  \n",
       "2     Infosec                   [ninguno]  "
      ]
     },
     "execution_count": 9,
     "metadata": {},
     "output_type": "execute_result"
    }
   ],
   "source": [
    "# Convert the comma-separated string of languages to a list of string.\n",
    "# Remove 'ninguno de los anteriores' option, spaces and training commas.\n",
    "def split_languages(languages_str):\n",
    "  if not isinstance(languages_str, str):\n",
    "    return []\n",
    "  # Remove 'other' option\n",
    "  languages_str = languages_str.lower()\\\n",
    "    .replace('ninguno de los anteriores', '')\n",
    "  # Split string into list of items\n",
    "  # Remove spaces and commas for each item\n",
    "  return [lang.strip().replace(',', '')\n",
    "          for lang in languages_str.split()]\n",
    "\n",
    "# Create a new column with the list of languages\n",
    "df.loc[:, 'cured_programming_languages'] = df.tools_programming_languages\\\n",
    "    .apply(split_languages)\n",
    "if 'cured_programming_languages' not in relevant_columns:\n",
    "    relevant_columns.append('cured_programming_languages') \n",
    "\n",
    "# Duplicate each row of df for each programming language\n",
    "# mentioned in the response.\n",
    "# We only include in df_lang the columns we are going to analyze later, so we\n",
    "# don't duplicate innecesary information.\n",
    "df_lang = df.cured_programming_languages\\\n",
    "    .apply(pd.Series).stack()\\\n",
    "    .reset_index(level=-1, drop=True).to_frame()\\\n",
    "    .join(df[relevant_columns])\\\n",
    "    .rename(columns={0: 'programming_language'})\n",
    "# Horrible programming style! But a lot of data science code can be written with\n",
    "# as concatenations of functions (pipelines), and there's no elegant way of\n",
    "# doing that on Python.\n",
    "df_lang[:5]"
   ]
  },
  {
   "cell_type": "markdown",
   "metadata": {
    "id": "4FHSwCR0yJKm"
   },
   "source": [
    "## Seleccionar las filas relevantes para analizar. \n",
    "Esto incluye la eliminación de valores extremos y erróneos, pero también puede enfocar el análisis en una sub-población. Por ejemplo, se pueden limitar a personas con un salario mayor que 10000 pesos, o a las personas que trabajan sólo en \"Data Science\", pero deben justificar su elección y reformular la pregunta inicial de ser necesario.\n",
    "* Obtener una lista de los lenguajes de programación más populares. Decidir cuántos y cuáles seleccionan para incluir en el análisis.\n",
    "* Para cada una de las otras columnas del punto anterior, elegir los rangos o valores seleccionan para incluir en el análisis."
   ]
  },
  {
   "cell_type": "markdown",
   "metadata": {
    "id": "tGCyX_d_yg0m"
   },
   "source": [
    "### Análisis de sub-población\n",
    "\n",
    "* Seleccionaría de la columna word_role solo desarrolladores ya que consideramos que es la subpobablación cuyo salarío tiene relación directa con su expertise en programación.\n",
    "\n"
   ]
  },
  {
   "cell_type": "code",
   "execution_count": 23,
   "metadata": {
    "collapsed": true,
    "jupyter": {
     "outputs_hidden": true
    }
   },
   "outputs": [
    {
     "data": {
      "text/plain": [
       "array(['Consultant', 'Developer', 'Infosec', 'SysAdmin / DevOps / SRE',\n",
       "       'Manager / Director', 'Technical Leader',\n",
       "       'Data Scientist / Data Engineer', 'DBA', 'Project Manager',\n",
       "       'Business Analyst', 'QA / Tester', 'Architect', 'Product Manager',\n",
       "       'Designer', 'BI Analyst / Data Analyst', 'Middleware',\n",
       "       'VP / C-Level', 'Storage / Backup', 'Networking', 'HelpDesk', 'UX',\n",
       "       'Ux User Research Analyst', 'Jefe de infraestructura ',\n",
       "       'Scrum Master', 'Sales / Pre-Sales', 'Team leader',\n",
       "       'Microinformatica', 'Technical Writer',\n",
       "       'Implementadora de software ', 'Desarrollador BI',\n",
       "       'Martech Specialist', 'Software Configuration Management',\n",
       "       'Maquetador/Diseño UI', 'Service manager', 'Release Manager',\n",
       "       'Access Management Analyst', 'DevOps Cloud Engineer',\n",
       "       'Soporte e Infraestructura', 'Recruiter / HR', 'tecnico',\n",
       "       'Finance', 'Data Visualization', 'Implementador de Software',\n",
       "       'back end', 'Software Engineer', 'NLP', 'Presales architect',\n",
       "       'NOC', 'QA automation Technical Leader', 'SOC', 'Account manager',\n",
       "       'Telecomunicaciones', 'Cto',\n",
       "       'Instalación, puesta en marcha y servicio técnico de equipos electrónicos en la industria naval.',\n",
       "       'Networking / SysAdmin', 'Responsable BI', 'Data Quality Analyst',\n",
       "       'Technical Owner', 'DevOps', 'Analista Programador', 'Tecnico',\n",
       "       'soporte it', 'Fullstack', 'Frontend dev Jr ', 'Soporte Tecnico',\n",
       "       'Head of Engineering', 'Coordinadora proyectos educativos tech',\n",
       "       'Infrastructure Administrator', 'VERIFICADOR DE CUENTAS',\n",
       "       'Analista técnico funcional/arquitecta', 'Technical support',\n",
       "       'Integration Engineer',\n",
       "       'trabajo como desarrollador back, pero también tengo que estar haciendo de analista , DBA, dev frontend y a veces de helpdesk',\n",
       "       'devops', 'BRM', 'coordinador de soporte', 'Implementador IAM',\n",
       "       'Arquitecto de Seguridad', 'Business Partner IT',\n",
       "       'Lead Product Artist', 'IT Leader',\n",
       "       'Help Desk/software architect/developer', 'Account manager ',\n",
       "       'Analista Funcional', 'Gerente Operativo de Seguridad Informatica',\n",
       "       'Secretaria', 'Server admin', 'Asistente Direccion',\n",
       "       'openstack SME', 'Blockchain Team', 'generalista',\n",
       "       'Administrador de sistemas', 'Comunicación', 'Production support',\n",
       "       'Hombre orquesta', 'Customer service',\n",
       "       'Frond-end coder / UI Designer', 'SOPORTE DE APP', 'frontend',\n",
       "       'Customer Advocate', 'Area de educacion', 'UI',\n",
       "       'Analista de producto digital', 'Administrador Wintel',\n",
       "       'Fashion Account Manager', 'Investigador',\n",
       "       'Programo y lidero al mismo tiempo', 'Mobile Engineer',\n",
       "       'Technical Account Manager',\n",
       "       'Un poco de todo, web, programación, Diseño, email marketing y redes 🤷🏻\\u200d♂️',\n",
       "       'Principal Engineer', 'UI / UX Designer', 'full developer',\n",
       "       'Program Manager', 'Jefe de Sistemas / CIO / CTO',\n",
       "       'Onsite Support', 'Product Owner', 'Security Researcher',\n",
       "       'Product Designer', 'Cloud Engineer', 'Team Lead',\n",
       "       'Technical Support (Level 2)', 'Analista programador',\n",
       "       'Lider de Proyecto', 'Marketing Team Lead', 'Growth ',\n",
       "       'IT Responsible', 'front-end dev',\n",
       "       'Subject Matter Expert (simil a director pero sin el management)',\n",
       "       'Analista Técnico Funcional', 'IT', 'Community Manager y Analista',\n",
       "       'QA Lead', 'Tecnico instalador ', 'Functional Analyst',\n",
       "       'Reasercher', 'System Engineer', 'AV Technical Leader - Support',\n",
       "       'Technical Lead Devops', 'SAP BASIS',\n",
       "       'Dewigb + sales +customer care', 'Application Analyst',\n",
       "       'Software Development Coordinator', 'Principal Software Engineer',\n",
       "       'servicio técnico', 'Maquetador', 'Técnico en automatización',\n",
       "       'Responsable de Marketing y Diseño', 'Analista de sistemas',\n",
       "       'Software engeniering', 'Implementador de software y dba',\n",
       "       'Analista de Monitoreo', 'Maxirest', 'Machine Learning Engineer',\n",
       "       'full stack developer y growth hacker', 'Field Support',\n",
       "       'Analista Tecnico', 'CTO',\n",
       "       'Gestora Particular y Data analyst, Administrativa',\n",
       "       'Project leader', 'Cibersecurity & Compliance Engineer',\n",
       "       'Security ', 'DevSecOps', 'Developer QA - Ambos roles',\n",
       "       'Administrativo', 'Jefe de desarrollo', 'Software engineer',\n",
       "       'Firmware Developer', 'R&D Engineer',\n",
       "       'Software Developer- computer vision full stack', 'QA Automation',\n",
       "       'Service Management IT GRC', 'Senior software Developer',\n",
       "       'Sysadmin', 'Auditoría', 'application support',\n",
       "       'Technical Support Analyst', 'Analista funcional ',\n",
       "       'Gerente de Sistemas', 'Security Admin', 'Jefe HR', 'Data QA',\n",
       "       'Resiliencia', 'Informatica forense', 'Project Lead',\n",
       "       'PLC, HMI y Scada', 'Técnico, armador, reparador',\n",
       "       'Consultor de sistemas ', 'Project Leader', 'Teaching', 'Mobile ',\n",
       "       'Principal of Engineering', 'Becario', 'Internal Auditor',\n",
       "       'Infrastructure Specialist', 'Data Visualization Engineer', 'RPA',\n",
       "       'Network Architect', 'Operador Datacenter', 'Seguridad IT',\n",
       "       'Seguridad',\n",
       "       'Founder/CEO/Developer/Designer/Product Manager... TODO',\n",
       "       'Digital Transformation Manager + KAM VIP',\n",
       "       'operario de kits de biomedicina', 'seguridad',\n",
       "       'Encargado tecnico', 'Manager', 'servicios', 'Gerente de sistemas',\n",
       "       'Analista funcional', 'Project Analyst', 'Job streaming',\n",
       "       'Auditor', 'Mnt', 'Soporte de aplicaciones niv 1, 2 y 3',\n",
       "       'Job Streamer', 'Soporte Técnico', 'Analista',\n",
       "       'Production support ', 'Game developer', 'Devops',\n",
       "       'Analista de arquitectura y ciberseguridad', 'Hardware Engineer',\n",
       "       'Técnico de Desktop', 'Soporte tecnico, redes y programación',\n",
       "       'Coordinador helpdesk', 'Soporte tecnico', 'Funcional',\n",
       "       'system engineer', 'todos los de arriba', 'Help Desk', 'Pasante',\n",
       "       'Soporte / Mantenimiento',\n",
       "       'Dirección General de informática y Telecomunicaciones',\n",
       "       'Seguridad informática ', 'Helpdesk sysadmin networking', 'Other',\n",
       "       'Repartidor, Construcción y atendedor', 'Engineer', 'full stack',\n",
       "       'Sap', 'Front end',\n",
       "       'Varias opciones: data scientist, project manager, sysadmin.',\n",
       "       'Implementador', 'comunicación, redes sociales, otros',\n",
       "       'Soporte técnico. Redes. ', 'Analista/desarrollador',\n",
       "       'analista programafor', 'Networking, Storage / Backup, SysAdmin',\n",
       "       'Trading', 'Security researcher',\n",
       "       'Infraestructura, Networking, SysAdmin, DBManager', 'Admin',\n",
       "       'Application Support', 'It, desarrollo, sysadmin', 'Automation',\n",
       "       'Desarrollador  / Líder Técnico / Analista Técnico Funcional'],\n",
       "      dtype=object)"
      ]
     },
     "execution_count": 23,
     "metadata": {},
     "output_type": "execute_result"
    }
   ],
   "source": [
    "df_lang['work_role'].unique() ##Buscaria todo lo que diga developer y desarrollador"
   ]
  },
  {
   "cell_type": "code",
   "execution_count": 24,
   "metadata": {},
   "outputs": [],
   "source": [
    "df_lang['work_role_clean'] = df_lang['work_role'].apply(lambda x: str.lower(x))"
   ]
  },
  {
   "cell_type": "code",
   "execution_count": 56,
   "metadata": {},
   "outputs": [],
   "source": [
    "df_developer_fin =df_lang[df_lang['work_role_clean'].str.contains(\"developer|desarrollador\")]"
   ]
  },
  {
   "cell_type": "code",
   "execution_count": 57,
   "metadata": {},
   "outputs": [
    {
     "data": {
      "text/plain": [
       "programming_language           8879\n",
       "tools_programming_languages    8879\n",
       "salary_monthly_NETO            8573\n",
       "work_role                      8879\n",
       "cured_programming_languages    8879\n",
       "work_role_clean                8879\n",
       "dtype: int64"
      ]
     },
     "execution_count": 57,
     "metadata": {},
     "output_type": "execute_result"
    }
   ],
   "source": [
    "df_developer_fin.count()"
   ]
  },
  {
   "cell_type": "code",
   "execution_count": 58,
   "metadata": {},
   "outputs": [
    {
     "data": {
      "text/html": [
       "<div>\n",
       "<style scoped>\n",
       "    .dataframe tbody tr th:only-of-type {\n",
       "        vertical-align: middle;\n",
       "    }\n",
       "\n",
       "    .dataframe tbody tr th {\n",
       "        vertical-align: top;\n",
       "    }\n",
       "\n",
       "    .dataframe thead th {\n",
       "        text-align: right;\n",
       "    }\n",
       "</style>\n",
       "<table border=\"1\" class=\"dataframe\">\n",
       "  <thead>\n",
       "    <tr style=\"text-align: right;\">\n",
       "      <th></th>\n",
       "      <th>programming_language</th>\n",
       "      <th>tools_programming_languages</th>\n",
       "      <th>salary_monthly_NETO</th>\n",
       "      <th>work_role</th>\n",
       "      <th>cured_programming_languages</th>\n",
       "      <th>work_role_clean</th>\n",
       "    </tr>\n",
       "  </thead>\n",
       "  <tbody>\n",
       "    <tr>\n",
       "      <th>1</th>\n",
       "      <td>html</td>\n",
       "      <td>HTML, Javascript, Python</td>\n",
       "      <td>63000.0</td>\n",
       "      <td>Developer</td>\n",
       "      <td>[html, javascript, python]</td>\n",
       "      <td>developer</td>\n",
       "    </tr>\n",
       "    <tr>\n",
       "      <th>1</th>\n",
       "      <td>javascript</td>\n",
       "      <td>HTML, Javascript, Python</td>\n",
       "      <td>63000.0</td>\n",
       "      <td>Developer</td>\n",
       "      <td>[html, javascript, python]</td>\n",
       "      <td>developer</td>\n",
       "    </tr>\n",
       "    <tr>\n",
       "      <th>1</th>\n",
       "      <td>python</td>\n",
       "      <td>HTML, Javascript, Python</td>\n",
       "      <td>63000.0</td>\n",
       "      <td>Developer</td>\n",
       "      <td>[html, javascript, python]</td>\n",
       "      <td>developer</td>\n",
       "    </tr>\n",
       "  </tbody>\n",
       "</table>\n",
       "</div>"
      ],
      "text/plain": [
       "  programming_language tools_programming_languages  salary_monthly_NETO  \\\n",
       "1                 html    HTML, Javascript, Python              63000.0   \n",
       "1           javascript    HTML, Javascript, Python              63000.0   \n",
       "1               python    HTML, Javascript, Python              63000.0   \n",
       "\n",
       "   work_role cured_programming_languages work_role_clean  \n",
       "1  Developer  [html, javascript, python]       developer  \n",
       "1  Developer  [html, javascript, python]       developer  \n",
       "1  Developer  [html, javascript, python]       developer  "
      ]
     },
     "execution_count": 58,
     "metadata": {},
     "output_type": "execute_result"
    }
   ],
   "source": [
    "df_developer_fin.head(3)"
   ]
  },
  {
   "cell_type": "code",
   "execution_count": 59,
   "metadata": {},
   "outputs": [
    {
     "data": {
      "text/plain": [
       "array(['developer', 'desarrollador bi',\n",
       "       'trabajo como desarrollador back, pero también tengo que estar haciendo de analista , dba, dev frontend y a veces de helpdesk',\n",
       "       'help desk/software architect/developer', 'full developer',\n",
       "       'full stack developer y growth hacker',\n",
       "       'developer qa - ambos roles', 'firmware developer',\n",
       "       'software developer- computer vision full stack',\n",
       "       'senior software developer',\n",
       "       'founder/ceo/developer/designer/product manager... todo',\n",
       "       'game developer', 'analista/desarrollador',\n",
       "       'desarrollador  / líder técnico / analista técnico funcional'],\n",
       "      dtype=object)"
      ]
     },
     "execution_count": 59,
     "metadata": {},
     "output_type": "execute_result"
    }
   ],
   "source": [
    "df_developer_fin['work_role_clean'].unique()"
   ]
  },
  {
   "cell_type": "code",
   "execution_count": 60,
   "metadata": {},
   "outputs": [
    {
     "data": {
      "text/plain": [
       "developer                                                                                                                       8809\n",
       "full stack developer y growth hacker                                                                                              18\n",
       "firmware developer                                                                                                                10\n",
       "desarrollador  / líder técnico / analista técnico funcional                                                                        6\n",
       "trabajo como desarrollador back, pero también tengo que estar haciendo de analista , dba, dev frontend y a veces de helpdesk       6\n",
       "analista/desarrollador                                                                                                             6\n",
       "software developer- computer vision full stack                                                                                     5\n",
       "founder/ceo/developer/designer/product manager... todo                                                                             5\n",
       "full developer                                                                                                                     4\n",
       "help desk/software architect/developer                                                                                             3\n",
       "developer qa - ambos roles                                                                                                         3\n",
       "game developer                                                                                                                     2\n",
       "desarrollador bi                                                                                                                   1\n",
       "senior software developer                                                                                                          1\n",
       "Name: work_role_clean, dtype: int64"
      ]
     },
     "execution_count": 60,
     "metadata": {},
     "output_type": "execute_result"
    }
   ],
   "source": [
    "df_developer_fin['work_role_clean'].value_counts()"
   ]
  },
  {
   "cell_type": "code",
   "execution_count": 61,
   "metadata": {
    "colab": {
     "base_uri": "https://localhost:8080/",
     "height": 359
    },
    "id": "aAsvdyG46Ktc",
    "outputId": "5f008ead-b4e6-420c-d514-3f18c1bd2a18"
   },
   "outputs": [
    {
     "data": {
      "text/html": [
       "<div>\n",
       "<style scoped>\n",
       "    .dataframe tbody tr th:only-of-type {\n",
       "        vertical-align: middle;\n",
       "    }\n",
       "\n",
       "    .dataframe tbody tr th {\n",
       "        vertical-align: top;\n",
       "    }\n",
       "\n",
       "    .dataframe thead th {\n",
       "        text-align: right;\n",
       "    }\n",
       "</style>\n",
       "<table border=\"1\" class=\"dataframe\">\n",
       "  <thead>\n",
       "    <tr style=\"text-align: right;\">\n",
       "      <th></th>\n",
       "      <th>language</th>\n",
       "      <th>frequency</th>\n",
       "    </tr>\n",
       "  </thead>\n",
       "  <tbody>\n",
       "    <tr>\n",
       "      <th>0</th>\n",
       "      <td>javascript</td>\n",
       "      <td>1593</td>\n",
       "    </tr>\n",
       "    <tr>\n",
       "      <th>1</th>\n",
       "      <td>html</td>\n",
       "      <td>1096</td>\n",
       "    </tr>\n",
       "    <tr>\n",
       "      <th>2</th>\n",
       "      <td>sql</td>\n",
       "      <td>999</td>\n",
       "    </tr>\n",
       "    <tr>\n",
       "      <th>3</th>\n",
       "      <td>css</td>\n",
       "      <td>834</td>\n",
       "    </tr>\n",
       "    <tr>\n",
       "      <th>4</th>\n",
       "      <td>java</td>\n",
       "      <td>773</td>\n",
       "    </tr>\n",
       "    <tr>\n",
       "      <th>5</th>\n",
       "      <td>typescript</td>\n",
       "      <td>567</td>\n",
       "    </tr>\n",
       "    <tr>\n",
       "      <th>6</th>\n",
       "      <td>.net</td>\n",
       "      <td>470</td>\n",
       "    </tr>\n",
       "    <tr>\n",
       "      <th>7</th>\n",
       "      <td>c#</td>\n",
       "      <td>450</td>\n",
       "    </tr>\n",
       "    <tr>\n",
       "      <th>8</th>\n",
       "      <td>php</td>\n",
       "      <td>416</td>\n",
       "    </tr>\n",
       "    <tr>\n",
       "      <th>9</th>\n",
       "      <td>python</td>\n",
       "      <td>391</td>\n",
       "    </tr>\n",
       "  </tbody>\n",
       "</table>\n",
       "</div>"
      ],
      "text/plain": [
       "     language  frequency\n",
       "0  javascript       1593\n",
       "1        html       1096\n",
       "2         sql        999\n",
       "3         css        834\n",
       "4        java        773\n",
       "5  typescript        567\n",
       "6        .net        470\n",
       "7          c#        450\n",
       "8         php        416\n",
       "9      python        391"
      ]
     },
     "execution_count": 61,
     "metadata": {},
     "output_type": "execute_result"
    }
   ],
   "source": [
    "df_lang_work=df_developer_fin\n",
    "language_count = df_lang_work.programming_language.value_counts()\\\n",
    "    .reset_index()\\\n",
    "    .rename(columns={'index': 'language', 'programming_language': 'frequency'})\n",
    "most_important_lang=language_count[:10]\n",
    "most_important_lang"
   ]
  },
  {
   "cell_type": "markdown",
   "metadata": {
    "id": "H6cGBk6HSZgs"
   },
   "source": [
    "`***Martin P***`\n",
    "\n",
    "Buscamos que los valores de los datos sean similares. Filtramos y quitamos salarios menores de 10:"
   ]
  },
  {
   "cell_type": "code",
   "execution_count": 62,
   "metadata": {
    "colab": {
     "base_uri": "https://localhost:8080/"
    },
    "id": "aoTXwG2EQ9ul",
    "outputId": "5327017a-ba15-449a-9f63-1af82d2f55b7"
   },
   "outputs": [
    {
     "data": {
      "text/plain": [
       "programming_language           8879\n",
       "tools_programming_languages    8879\n",
       "salary_monthly_NETO            8573\n",
       "work_role                      8879\n",
       "cured_programming_languages    8879\n",
       "work_role_clean                8879\n",
       "dtype: int64"
      ]
     },
     "execution_count": 62,
     "metadata": {},
     "output_type": "execute_result"
    }
   ],
   "source": [
    "df_lang_work.count()"
   ]
  },
  {
   "cell_type": "code",
   "execution_count": 65,
   "metadata": {
    "colab": {
     "base_uri": "https://localhost:8080/",
     "height": 419
    },
    "id": "MsP-JDcBRlvM",
    "outputId": "3e4c0a62-bbe8-4d24-ddbd-9efb56cc7390"
   },
   "outputs": [
    {
     "data": {
      "text/html": [
       "<div>\n",
       "<style scoped>\n",
       "    .dataframe tbody tr th:only-of-type {\n",
       "        vertical-align: middle;\n",
       "    }\n",
       "\n",
       "    .dataframe tbody tr th {\n",
       "        vertical-align: top;\n",
       "    }\n",
       "\n",
       "    .dataframe thead th {\n",
       "        text-align: right;\n",
       "    }\n",
       "</style>\n",
       "<table border=\"1\" class=\"dataframe\">\n",
       "  <thead>\n",
       "    <tr style=\"text-align: right;\">\n",
       "      <th></th>\n",
       "      <th>programming_language</th>\n",
       "      <th>tools_programming_languages</th>\n",
       "      <th>salary_monthly_NETO</th>\n",
       "      <th>work_role</th>\n",
       "      <th>cured_programming_languages</th>\n",
       "      <th>work_role_clean</th>\n",
       "    </tr>\n",
       "  </thead>\n",
       "  <tbody>\n",
       "    <tr>\n",
       "      <th>1</th>\n",
       "      <td>html</td>\n",
       "      <td>HTML, Javascript, Python</td>\n",
       "      <td>63000.0</td>\n",
       "      <td>Developer</td>\n",
       "      <td>[html, javascript, python]</td>\n",
       "      <td>developer</td>\n",
       "    </tr>\n",
       "    <tr>\n",
       "      <th>1</th>\n",
       "      <td>javascript</td>\n",
       "      <td>HTML, Javascript, Python</td>\n",
       "      <td>63000.0</td>\n",
       "      <td>Developer</td>\n",
       "      <td>[html, javascript, python]</td>\n",
       "      <td>developer</td>\n",
       "    </tr>\n",
       "    <tr>\n",
       "      <th>1</th>\n",
       "      <td>python</td>\n",
       "      <td>HTML, Javascript, Python</td>\n",
       "      <td>63000.0</td>\n",
       "      <td>Developer</td>\n",
       "      <td>[html, javascript, python]</td>\n",
       "      <td>developer</td>\n",
       "    </tr>\n",
       "    <tr>\n",
       "      <th>4</th>\n",
       "      <td>css</td>\n",
       "      <td>CSS, HTML, Javascript, SQL, TypeScript</td>\n",
       "      <td>106000.0</td>\n",
       "      <td>Developer</td>\n",
       "      <td>[css, html, javascript, sql, typescript]</td>\n",
       "      <td>developer</td>\n",
       "    </tr>\n",
       "    <tr>\n",
       "      <th>4</th>\n",
       "      <td>html</td>\n",
       "      <td>CSS, HTML, Javascript, SQL, TypeScript</td>\n",
       "      <td>106000.0</td>\n",
       "      <td>Developer</td>\n",
       "      <td>[css, html, javascript, sql, typescript]</td>\n",
       "      <td>developer</td>\n",
       "    </tr>\n",
       "    <tr>\n",
       "      <th>...</th>\n",
       "      <td>...</td>\n",
       "      <td>...</td>\n",
       "      <td>...</td>\n",
       "      <td>...</td>\n",
       "      <td>...</td>\n",
       "      <td>...</td>\n",
       "    </tr>\n",
       "    <tr>\n",
       "      <th>6090</th>\n",
       "      <td>html</td>\n",
       "      <td>.NET, C#, COBOL, CSS, HTML, Javascript, PHP, S...</td>\n",
       "      <td>97000.0</td>\n",
       "      <td>Developer</td>\n",
       "      <td>[.net, c#, cobol, css, html, javascript, php, ...</td>\n",
       "      <td>developer</td>\n",
       "    </tr>\n",
       "    <tr>\n",
       "      <th>6090</th>\n",
       "      <td>javascript</td>\n",
       "      <td>.NET, C#, COBOL, CSS, HTML, Javascript, PHP, S...</td>\n",
       "      <td>97000.0</td>\n",
       "      <td>Developer</td>\n",
       "      <td>[.net, c#, cobol, css, html, javascript, php, ...</td>\n",
       "      <td>developer</td>\n",
       "    </tr>\n",
       "    <tr>\n",
       "      <th>6090</th>\n",
       "      <td>php</td>\n",
       "      <td>.NET, C#, COBOL, CSS, HTML, Javascript, PHP, S...</td>\n",
       "      <td>97000.0</td>\n",
       "      <td>Developer</td>\n",
       "      <td>[.net, c#, cobol, css, html, javascript, php, ...</td>\n",
       "      <td>developer</td>\n",
       "    </tr>\n",
       "    <tr>\n",
       "      <th>6090</th>\n",
       "      <td>sql</td>\n",
       "      <td>.NET, C#, COBOL, CSS, HTML, Javascript, PHP, S...</td>\n",
       "      <td>97000.0</td>\n",
       "      <td>Developer</td>\n",
       "      <td>[.net, c#, cobol, css, html, javascript, php, ...</td>\n",
       "      <td>developer</td>\n",
       "    </tr>\n",
       "    <tr>\n",
       "      <th>6090</th>\n",
       "      <td>vba</td>\n",
       "      <td>.NET, C#, COBOL, CSS, HTML, Javascript, PHP, S...</td>\n",
       "      <td>97000.0</td>\n",
       "      <td>Developer</td>\n",
       "      <td>[.net, c#, cobol, css, html, javascript, php, ...</td>\n",
       "      <td>developer</td>\n",
       "    </tr>\n",
       "  </tbody>\n",
       "</table>\n",
       "<p>8550 rows × 6 columns</p>\n",
       "</div>"
      ],
      "text/plain": [
       "     programming_language                        tools_programming_languages  \\\n",
       "1                    html                           HTML, Javascript, Python   \n",
       "1              javascript                           HTML, Javascript, Python   \n",
       "1                  python                           HTML, Javascript, Python   \n",
       "4                     css             CSS, HTML, Javascript, SQL, TypeScript   \n",
       "4                    html             CSS, HTML, Javascript, SQL, TypeScript   \n",
       "...                   ...                                                ...   \n",
       "6090                 html  .NET, C#, COBOL, CSS, HTML, Javascript, PHP, S...   \n",
       "6090           javascript  .NET, C#, COBOL, CSS, HTML, Javascript, PHP, S...   \n",
       "6090                  php  .NET, C#, COBOL, CSS, HTML, Javascript, PHP, S...   \n",
       "6090                  sql  .NET, C#, COBOL, CSS, HTML, Javascript, PHP, S...   \n",
       "6090                  vba  .NET, C#, COBOL, CSS, HTML, Javascript, PHP, S...   \n",
       "\n",
       "      salary_monthly_NETO  work_role  \\\n",
       "1                 63000.0  Developer   \n",
       "1                 63000.0  Developer   \n",
       "1                 63000.0  Developer   \n",
       "4                106000.0  Developer   \n",
       "4                106000.0  Developer   \n",
       "...                   ...        ...   \n",
       "6090              97000.0  Developer   \n",
       "6090              97000.0  Developer   \n",
       "6090              97000.0  Developer   \n",
       "6090              97000.0  Developer   \n",
       "6090              97000.0  Developer   \n",
       "\n",
       "                            cured_programming_languages work_role_clean  \n",
       "1                            [html, javascript, python]       developer  \n",
       "1                            [html, javascript, python]       developer  \n",
       "1                            [html, javascript, python]       developer  \n",
       "4              [css, html, javascript, sql, typescript]       developer  \n",
       "4              [css, html, javascript, sql, typescript]       developer  \n",
       "...                                                 ...             ...  \n",
       "6090  [.net, c#, cobol, css, html, javascript, php, ...       developer  \n",
       "6090  [.net, c#, cobol, css, html, javascript, php, ...       developer  \n",
       "6090  [.net, c#, cobol, css, html, javascript, php, ...       developer  \n",
       "6090  [.net, c#, cobol, css, html, javascript, php, ...       developer  \n",
       "6090  [.net, c#, cobol, css, html, javascript, php, ...       developer  \n",
       "\n",
       "[8550 rows x 6 columns]"
      ]
     },
     "execution_count": 65,
     "metadata": {},
     "output_type": "execute_result"
    }
   ],
   "source": [
    "zeros_salary_monthly_NETO = df_lang_work[df_lang_work[\"salary_monthly_NETO\"]>10]\n",
    "malos = df_lang_work[df_lang_work[\"salary_monthly_NETO\"]<10]\n",
    "zeros_salary_monthly_NETO"
   ]
  },
  {
   "cell_type": "code",
   "execution_count": 66,
   "metadata": {
    "colab": {
     "base_uri": "https://localhost:8080/"
    },
    "id": "mmLhmg0xSPpN",
    "outputId": "9b7a31a3-01df-41cd-c6e1-515288f5e87d"
   },
   "outputs": [
    {
     "data": {
      "text/plain": [
       "programming_language           23\n",
       "tools_programming_languages    23\n",
       "salary_monthly_NETO            23\n",
       "work_role                      23\n",
       "cured_programming_languages    23\n",
       "work_role_clean                23\n",
       "dtype: int64"
      ]
     },
     "execution_count": 66,
     "metadata": {},
     "output_type": "execute_result"
    }
   ],
   "source": [
    "malos.count()"
   ]
  },
  {
   "cell_type": "code",
   "execution_count": 14,
   "metadata": {
    "colab": {
     "base_uri": "https://localhost:8080/"
    },
    "id": "N1Fs5A2FR64K",
    "outputId": "0c8c3e14-6a07-4d26-a00e-910192101478"
   },
   "outputs": [
    {
     "data": {
      "text/plain": [
       "programming_language           8498\n",
       "tools_programming_languages    8498\n",
       "salary_monthly_NETO            8498\n",
       "work_role                      8498\n",
       "cured_programming_languages    8498\n",
       "dtype: int64"
      ]
     },
     "execution_count": 14,
     "metadata": {},
     "output_type": "execute_result"
    }
   ],
   "source": [
    "zeros_salary_monthly_NETO.count()"
   ]
  },
  {
   "cell_type": "code",
   "execution_count": 15,
   "metadata": {
    "id": "FzWMnLPR3mM7"
   },
   "outputs": [],
   "source": [
    "df_martin_r=zeros_salary_monthly_NETO.copy()"
   ]
  },
  {
   "cell_type": "markdown",
   "metadata": {
    "id": "xJtZ3R-iCO62"
   },
   "source": [
    "## Selección de métricas\n",
    "Comparar las distribuciones de salario para cada lenguaje utilizando visualizaciones. Como la visualización es el producto final, debe ser clara y mostrar información relevante."
   ]
  },
  {
   "cell_type": "markdown",
   "metadata": {
    "id": "5xtVrb4jCeUz"
   },
   "source": [
    "Boxplot: Lenguage vs Salario\n",
    "\n",
    "Histograma: hay que llevar salario a un rango (bins)\n",
    "\n",
    "crosstab\n",
    "\n",
    "scaterplot: permite evaluar 3D. Podemos evaluar work_role vs language vs salario\n",
    "\n",
    "language vs salario vs frec (ocurrencia de encuestas)"
   ]
  },
  {
   "cell_type": "code",
   "execution_count": 16,
   "metadata": {
    "colab": {
     "base_uri": "https://localhost:8080/",
     "height": 407
    },
    "id": "oMtOEGYcQdwp",
    "outputId": "aa372e85-309b-4265-c13b-b8576369d7e3"
   },
   "outputs": [
    {
     "data": {
      "text/html": [
       "<div>\n",
       "<style scoped>\n",
       "    .dataframe tbody tr th:only-of-type {\n",
       "        vertical-align: middle;\n",
       "    }\n",
       "\n",
       "    .dataframe tbody tr th {\n",
       "        vertical-align: top;\n",
       "    }\n",
       "\n",
       "    .dataframe thead th {\n",
       "        text-align: right;\n",
       "    }\n",
       "</style>\n",
       "<table border=\"1\" class=\"dataframe\">\n",
       "  <thead>\n",
       "    <tr style=\"text-align: right;\">\n",
       "      <th></th>\n",
       "      <th>programming_language</th>\n",
       "      <th>tools_programming_languages</th>\n",
       "      <th>salary_monthly_NETO</th>\n",
       "      <th>work_role</th>\n",
       "      <th>cured_programming_languages</th>\n",
       "    </tr>\n",
       "  </thead>\n",
       "  <tbody>\n",
       "    <tr>\n",
       "      <th>1</th>\n",
       "      <td>html</td>\n",
       "      <td>HTML, Javascript, Python</td>\n",
       "      <td>63000.0</td>\n",
       "      <td>Developer</td>\n",
       "      <td>[html, javascript, python]</td>\n",
       "    </tr>\n",
       "    <tr>\n",
       "      <th>1</th>\n",
       "      <td>javascript</td>\n",
       "      <td>HTML, Javascript, Python</td>\n",
       "      <td>63000.0</td>\n",
       "      <td>Developer</td>\n",
       "      <td>[html, javascript, python]</td>\n",
       "    </tr>\n",
       "    <tr>\n",
       "      <th>1</th>\n",
       "      <td>python</td>\n",
       "      <td>HTML, Javascript, Python</td>\n",
       "      <td>63000.0</td>\n",
       "      <td>Developer</td>\n",
       "      <td>[html, javascript, python]</td>\n",
       "    </tr>\n",
       "    <tr>\n",
       "      <th>4</th>\n",
       "      <td>css</td>\n",
       "      <td>CSS, HTML, Javascript, SQL, TypeScript</td>\n",
       "      <td>106000.0</td>\n",
       "      <td>Developer</td>\n",
       "      <td>[css, html, javascript, sql, typescript]</td>\n",
       "    </tr>\n",
       "    <tr>\n",
       "      <th>4</th>\n",
       "      <td>html</td>\n",
       "      <td>CSS, HTML, Javascript, SQL, TypeScript</td>\n",
       "      <td>106000.0</td>\n",
       "      <td>Developer</td>\n",
       "      <td>[css, html, javascript, sql, typescript]</td>\n",
       "    </tr>\n",
       "    <tr>\n",
       "      <th>...</th>\n",
       "      <td>...</td>\n",
       "      <td>...</td>\n",
       "      <td>...</td>\n",
       "      <td>...</td>\n",
       "      <td>...</td>\n",
       "    </tr>\n",
       "    <tr>\n",
       "      <th>6090</th>\n",
       "      <td>html</td>\n",
       "      <td>.NET, C#, COBOL, CSS, HTML, Javascript, PHP, S...</td>\n",
       "      <td>97000.0</td>\n",
       "      <td>Developer</td>\n",
       "      <td>[.net, c#, cobol, css, html, javascript, php, ...</td>\n",
       "    </tr>\n",
       "    <tr>\n",
       "      <th>6090</th>\n",
       "      <td>javascript</td>\n",
       "      <td>.NET, C#, COBOL, CSS, HTML, Javascript, PHP, S...</td>\n",
       "      <td>97000.0</td>\n",
       "      <td>Developer</td>\n",
       "      <td>[.net, c#, cobol, css, html, javascript, php, ...</td>\n",
       "    </tr>\n",
       "    <tr>\n",
       "      <th>6090</th>\n",
       "      <td>php</td>\n",
       "      <td>.NET, C#, COBOL, CSS, HTML, Javascript, PHP, S...</td>\n",
       "      <td>97000.0</td>\n",
       "      <td>Developer</td>\n",
       "      <td>[.net, c#, cobol, css, html, javascript, php, ...</td>\n",
       "    </tr>\n",
       "    <tr>\n",
       "      <th>6090</th>\n",
       "      <td>sql</td>\n",
       "      <td>.NET, C#, COBOL, CSS, HTML, Javascript, PHP, S...</td>\n",
       "      <td>97000.0</td>\n",
       "      <td>Developer</td>\n",
       "      <td>[.net, c#, cobol, css, html, javascript, php, ...</td>\n",
       "    </tr>\n",
       "    <tr>\n",
       "      <th>6090</th>\n",
       "      <td>vba</td>\n",
       "      <td>.NET, C#, COBOL, CSS, HTML, Javascript, PHP, S...</td>\n",
       "      <td>97000.0</td>\n",
       "      <td>Developer</td>\n",
       "      <td>[.net, c#, cobol, css, html, javascript, php, ...</td>\n",
       "    </tr>\n",
       "  </tbody>\n",
       "</table>\n",
       "<p>8809 rows × 5 columns</p>\n",
       "</div>"
      ],
      "text/plain": [
       "     programming_language                        tools_programming_languages  \\\n",
       "1                    html                           HTML, Javascript, Python   \n",
       "1              javascript                           HTML, Javascript, Python   \n",
       "1                  python                           HTML, Javascript, Python   \n",
       "4                     css             CSS, HTML, Javascript, SQL, TypeScript   \n",
       "4                    html             CSS, HTML, Javascript, SQL, TypeScript   \n",
       "...                   ...                                                ...   \n",
       "6090                 html  .NET, C#, COBOL, CSS, HTML, Javascript, PHP, S...   \n",
       "6090           javascript  .NET, C#, COBOL, CSS, HTML, Javascript, PHP, S...   \n",
       "6090                  php  .NET, C#, COBOL, CSS, HTML, Javascript, PHP, S...   \n",
       "6090                  sql  .NET, C#, COBOL, CSS, HTML, Javascript, PHP, S...   \n",
       "6090                  vba  .NET, C#, COBOL, CSS, HTML, Javascript, PHP, S...   \n",
       "\n",
       "      salary_monthly_NETO  work_role  \\\n",
       "1                 63000.0  Developer   \n",
       "1                 63000.0  Developer   \n",
       "1                 63000.0  Developer   \n",
       "4                106000.0  Developer   \n",
       "4                106000.0  Developer   \n",
       "...                   ...        ...   \n",
       "6090              97000.0  Developer   \n",
       "6090              97000.0  Developer   \n",
       "6090              97000.0  Developer   \n",
       "6090              97000.0  Developer   \n",
       "6090              97000.0  Developer   \n",
       "\n",
       "                            cured_programming_languages  \n",
       "1                            [html, javascript, python]  \n",
       "1                            [html, javascript, python]  \n",
       "1                            [html, javascript, python]  \n",
       "4              [css, html, javascript, sql, typescript]  \n",
       "4              [css, html, javascript, sql, typescript]  \n",
       "...                                                 ...  \n",
       "6090  [.net, c#, cobol, css, html, javascript, php, ...  \n",
       "6090  [.net, c#, cobol, css, html, javascript, php, ...  \n",
       "6090  [.net, c#, cobol, css, html, javascript, php, ...  \n",
       "6090  [.net, c#, cobol, css, html, javascript, php, ...  \n",
       "6090  [.net, c#, cobol, css, html, javascript, php, ...  \n",
       "\n",
       "[8809 rows x 5 columns]"
      ]
     },
     "execution_count": 16,
     "metadata": {},
     "output_type": "execute_result"
    }
   ],
   "source": [
    "df_lang_work"
   ]
  },
  {
   "cell_type": "code",
   "execution_count": 17,
   "metadata": {
    "colab": {
     "base_uri": "https://localhost:8080/",
     "height": 197
    },
    "id": "Hs69LIRQhFcy",
    "outputId": "01e540f4-e012-4f21-b365-17030b09eb2b"
   },
   "outputs": [
    {
     "data": {
      "text/html": [
       "<div>\n",
       "<style scoped>\n",
       "    .dataframe tbody tr th:only-of-type {\n",
       "        vertical-align: middle;\n",
       "    }\n",
       "\n",
       "    .dataframe tbody tr th {\n",
       "        vertical-align: top;\n",
       "    }\n",
       "\n",
       "    .dataframe thead th {\n",
       "        text-align: right;\n",
       "    }\n",
       "</style>\n",
       "<table border=\"1\" class=\"dataframe\">\n",
       "  <thead>\n",
       "    <tr style=\"text-align: right;\">\n",
       "      <th></th>\n",
       "      <th>programming_language</th>\n",
       "    </tr>\n",
       "  </thead>\n",
       "  <tbody>\n",
       "    <tr>\n",
       "      <th>javascript</th>\n",
       "      <td>1584</td>\n",
       "    </tr>\n",
       "    <tr>\n",
       "      <th>html</th>\n",
       "      <td>1089</td>\n",
       "    </tr>\n",
       "    <tr>\n",
       "      <th>sql</th>\n",
       "      <td>994</td>\n",
       "    </tr>\n",
       "    <tr>\n",
       "      <th>css</th>\n",
       "      <td>829</td>\n",
       "    </tr>\n",
       "    <tr>\n",
       "      <th>java</th>\n",
       "      <td>771</td>\n",
       "    </tr>\n",
       "  </tbody>\n",
       "</table>\n",
       "</div>"
      ],
      "text/plain": [
       "            programming_language\n",
       "javascript                  1584\n",
       "html                        1089\n",
       "sql                          994\n",
       "css                          829\n",
       "java                         771"
      ]
     },
     "execution_count": 17,
     "metadata": {},
     "output_type": "execute_result"
    }
   ],
   "source": [
    "df_lang_work2 = df_lang_work\n",
    "cantidad = df_lang_work2[\"programming_language\"].value_counts()\n",
    "cantidad = pd.DataFrame(data=cantidad)\n",
    "cantidad.head()"
   ]
  },
  {
   "cell_type": "code",
   "execution_count": 18,
   "metadata": {
    "colab": {
     "base_uri": "https://localhost:8080/",
     "height": 552
    },
    "id": "NuRh_ynUUC7V",
    "outputId": "fd59e780-f765-48c0-bf02-dd341f8c1af9"
   },
   "outputs": [
    {
     "ename": "KeyError",
     "evalue": "'denominacion'",
     "output_type": "error",
     "traceback": [
      "\u001b[0;31m---------------------------------------------------------------------------\u001b[0m",
      "\u001b[0;31mKeyError\u001b[0m                                  Traceback (most recent call last)",
      "\u001b[0;32m~/.local/lib/python3.7/site-packages/pandas/core/indexes/base.py\u001b[0m in \u001b[0;36mget_loc\u001b[0;34m(self, key, method, tolerance)\u001b[0m\n\u001b[1;32m   2888\u001b[0m             \u001b[0;32mtry\u001b[0m\u001b[0;34m:\u001b[0m\u001b[0;34m\u001b[0m\u001b[0;34m\u001b[0m\u001b[0m\n\u001b[0;32m-> 2889\u001b[0;31m                 \u001b[0;32mreturn\u001b[0m \u001b[0mself\u001b[0m\u001b[0;34m.\u001b[0m\u001b[0m_engine\u001b[0m\u001b[0;34m.\u001b[0m\u001b[0mget_loc\u001b[0m\u001b[0;34m(\u001b[0m\u001b[0mcasted_key\u001b[0m\u001b[0;34m)\u001b[0m\u001b[0;34m\u001b[0m\u001b[0;34m\u001b[0m\u001b[0m\n\u001b[0m\u001b[1;32m   2890\u001b[0m             \u001b[0;32mexcept\u001b[0m \u001b[0mKeyError\u001b[0m \u001b[0;32mas\u001b[0m \u001b[0merr\u001b[0m\u001b[0;34m:\u001b[0m\u001b[0;34m\u001b[0m\u001b[0;34m\u001b[0m\u001b[0m\n",
      "\u001b[0;32mpandas/_libs/index.pyx\u001b[0m in \u001b[0;36mpandas._libs.index.IndexEngine.get_loc\u001b[0;34m()\u001b[0m\n",
      "\u001b[0;32mpandas/_libs/index.pyx\u001b[0m in \u001b[0;36mpandas._libs.index.IndexEngine.get_loc\u001b[0;34m()\u001b[0m\n",
      "\u001b[0;32mpandas/_libs/hashtable_class_helper.pxi\u001b[0m in \u001b[0;36mpandas._libs.hashtable.PyObjectHashTable.get_item\u001b[0;34m()\u001b[0m\n",
      "\u001b[0;32mpandas/_libs/hashtable_class_helper.pxi\u001b[0m in \u001b[0;36mpandas._libs.hashtable.PyObjectHashTable.get_item\u001b[0;34m()\u001b[0m\n",
      "\u001b[0;31mKeyError\u001b[0m: 'denominacion'",
      "\nThe above exception was the direct cause of the following exception:\n",
      "\u001b[0;31mKeyError\u001b[0m                                  Traceback (most recent call last)",
      "\u001b[0;32m<ipython-input-18-1e493d0c8d96>\u001b[0m in \u001b[0;36m<module>\u001b[0;34m\u001b[0m\n\u001b[0;32m----> 1\u001b[0;31m \u001b[0mlenguajes\u001b[0m \u001b[0;34m=\u001b[0m \u001b[0mcantidad\u001b[0m\u001b[0;34m[\u001b[0m\u001b[0;34m\"denominacion\"\u001b[0m\u001b[0;34m]\u001b[0m\u001b[0;34m.\u001b[0m\u001b[0mhead\u001b[0m\u001b[0;34m(\u001b[0m\u001b[0;36m15\u001b[0m\u001b[0;34m)\u001b[0m\u001b[0;34m\u001b[0m\u001b[0;34m\u001b[0m\u001b[0m\n\u001b[0m",
      "\u001b[0;32m~/.local/lib/python3.7/site-packages/pandas/core/frame.py\u001b[0m in \u001b[0;36m__getitem__\u001b[0;34m(self, key)\u001b[0m\n\u001b[1;32m   2897\u001b[0m             \u001b[0;32mif\u001b[0m \u001b[0mself\u001b[0m\u001b[0;34m.\u001b[0m\u001b[0mcolumns\u001b[0m\u001b[0;34m.\u001b[0m\u001b[0mnlevels\u001b[0m \u001b[0;34m>\u001b[0m \u001b[0;36m1\u001b[0m\u001b[0;34m:\u001b[0m\u001b[0;34m\u001b[0m\u001b[0;34m\u001b[0m\u001b[0m\n\u001b[1;32m   2898\u001b[0m                 \u001b[0;32mreturn\u001b[0m \u001b[0mself\u001b[0m\u001b[0;34m.\u001b[0m\u001b[0m_getitem_multilevel\u001b[0m\u001b[0;34m(\u001b[0m\u001b[0mkey\u001b[0m\u001b[0;34m)\u001b[0m\u001b[0;34m\u001b[0m\u001b[0;34m\u001b[0m\u001b[0m\n\u001b[0;32m-> 2899\u001b[0;31m             \u001b[0mindexer\u001b[0m \u001b[0;34m=\u001b[0m \u001b[0mself\u001b[0m\u001b[0;34m.\u001b[0m\u001b[0mcolumns\u001b[0m\u001b[0;34m.\u001b[0m\u001b[0mget_loc\u001b[0m\u001b[0;34m(\u001b[0m\u001b[0mkey\u001b[0m\u001b[0;34m)\u001b[0m\u001b[0;34m\u001b[0m\u001b[0;34m\u001b[0m\u001b[0m\n\u001b[0m\u001b[1;32m   2900\u001b[0m             \u001b[0;32mif\u001b[0m \u001b[0mis_integer\u001b[0m\u001b[0;34m(\u001b[0m\u001b[0mindexer\u001b[0m\u001b[0;34m)\u001b[0m\u001b[0;34m:\u001b[0m\u001b[0;34m\u001b[0m\u001b[0;34m\u001b[0m\u001b[0m\n\u001b[1;32m   2901\u001b[0m                 \u001b[0mindexer\u001b[0m \u001b[0;34m=\u001b[0m \u001b[0;34m[\u001b[0m\u001b[0mindexer\u001b[0m\u001b[0;34m]\u001b[0m\u001b[0;34m\u001b[0m\u001b[0;34m\u001b[0m\u001b[0m\n",
      "\u001b[0;32m~/.local/lib/python3.7/site-packages/pandas/core/indexes/base.py\u001b[0m in \u001b[0;36mget_loc\u001b[0;34m(self, key, method, tolerance)\u001b[0m\n\u001b[1;32m   2889\u001b[0m                 \u001b[0;32mreturn\u001b[0m \u001b[0mself\u001b[0m\u001b[0;34m.\u001b[0m\u001b[0m_engine\u001b[0m\u001b[0;34m.\u001b[0m\u001b[0mget_loc\u001b[0m\u001b[0;34m(\u001b[0m\u001b[0mcasted_key\u001b[0m\u001b[0;34m)\u001b[0m\u001b[0;34m\u001b[0m\u001b[0;34m\u001b[0m\u001b[0m\n\u001b[1;32m   2890\u001b[0m             \u001b[0;32mexcept\u001b[0m \u001b[0mKeyError\u001b[0m \u001b[0;32mas\u001b[0m \u001b[0merr\u001b[0m\u001b[0;34m:\u001b[0m\u001b[0;34m\u001b[0m\u001b[0;34m\u001b[0m\u001b[0m\n\u001b[0;32m-> 2891\u001b[0;31m                 \u001b[0;32mraise\u001b[0m \u001b[0mKeyError\u001b[0m\u001b[0;34m(\u001b[0m\u001b[0mkey\u001b[0m\u001b[0;34m)\u001b[0m \u001b[0;32mfrom\u001b[0m \u001b[0merr\u001b[0m\u001b[0;34m\u001b[0m\u001b[0;34m\u001b[0m\u001b[0m\n\u001b[0m\u001b[1;32m   2892\u001b[0m \u001b[0;34m\u001b[0m\u001b[0m\n\u001b[1;32m   2893\u001b[0m         \u001b[0;32mif\u001b[0m \u001b[0mtolerance\u001b[0m \u001b[0;32mis\u001b[0m \u001b[0;32mnot\u001b[0m \u001b[0;32mNone\u001b[0m\u001b[0;34m:\u001b[0m\u001b[0;34m\u001b[0m\u001b[0;34m\u001b[0m\u001b[0m\n",
      "\u001b[0;31mKeyError\u001b[0m: 'denominacion'"
     ]
    }
   ],
   "source": [
    "lenguajes = cantidad[\"denominacion\"].head(15)"
   ]
  },
  {
   "cell_type": "code",
   "execution_count": null,
   "metadata": {
    "id": "0vGTaPMbmOnw"
   },
   "outputs": [],
   "source": [
    "cantidad[\"sal_acum\"] = df_lang_work2.groupby([\"programming_language\"])[\"salary_monthly_NETO\"].sum()\n",
    "cantidad.head()"
   ]
  },
  {
   "cell_type": "code",
   "execution_count": null,
   "metadata": {
    "id": "ur9V6VbCnjSe"
   },
   "outputs": [],
   "source": [
    "cantidad[\"mean\"]=cantidad[\"sal_acum\"]/cantidad[\"programming_language\"]"
   ]
  },
  {
   "cell_type": "code",
   "execution_count": null,
   "metadata": {
    "id": "nmMTrJ_qRm8S"
   },
   "outputs": [],
   "source": [
    "cantidad[\"\"]= cantidad.index\n",
    "cantidad.columns"
   ]
  },
  {
   "cell_type": "code",
   "execution_count": null,
   "metadata": {
    "id": "c30rurMmSbfW"
   },
   "outputs": [],
   "source": [
    "cantidad[\"denominacion\"]= cantidad.index"
   ]
  },
  {
   "cell_type": "markdown",
   "metadata": {
    "id": "G6mLjPITUt_v"
   },
   "source": [
    "#Comentario => Martin P.\n",
    "Chicos... lo que hice aqui me costo un huevo. jaj, me falta mucha práctica. Que hice? es filtrar los 15 lenguajes más respondidos y calcularles el promedio de lo que ganan. \n",
    "\n",
    "Luego, los que en promedio no declararon casi nada de ingreso y al final los que declararon un número enorme de ingresos. \n",
    "\n",
    "Creo que esto es más curación de datos, pero entiendo que estaría bueno mencionarlo como al margen. Dejo el código bastante rupestre. Luego si quieren lo acomodamos de manera más elegante"
   ]
  },
  {
   "cell_type": "code",
   "execution_count": null,
   "metadata": {
    "id": "DJYD14iEoIs4"
   },
   "outputs": [],
   "source": [
    "seaborn.catplot(x=\"denominacion\", y=\"mean\", data=cantidad, kind=\"bar\", legend=True,height=5, aspect=4/1, order=lenguajes)"
   ]
  },
  {
   "cell_type": "code",
   "execution_count": null,
   "metadata": {
    "id": "BL3w23lJdD5F"
   },
   "outputs": [],
   "source": [
    "cantidad2 = cantidad.sort_values(by=\"mean\")"
   ]
  },
  {
   "cell_type": "code",
   "execution_count": null,
   "metadata": {
    "id": "Br0DolGUVnx3"
   },
   "outputs": [],
   "source": [
    "lenguajes2 = cantidad2[\"denominacion\"].head(15)\n",
    "seaborn.catplot(x=\"denominacion\", y=\"mean\", data=cantidad2, kind=\"bar\", legend=True,height=5, aspect=4/1, order=lenguajes2)"
   ]
  },
  {
   "cell_type": "code",
   "execution_count": null,
   "metadata": {
    "id": "FW-BEc22WiOC"
   },
   "outputs": [],
   "source": [
    "cantidad2.head()"
   ]
  },
  {
   "cell_type": "code",
   "execution_count": null,
   "metadata": {
    "id": "7DM5x3mpVpvq"
   },
   "outputs": [],
   "source": []
  },
  {
   "cell_type": "code",
   "execution_count": null,
   "metadata": {
    "id": "Li2aCX_gWC8v"
   },
   "outputs": [],
   "source": [
    "cantidad3.head(10)"
   ]
  },
  {
   "cell_type": "code",
   "execution_count": null,
   "metadata": {
    "id": "Xi3RPY69V6IR"
   },
   "outputs": [],
   "source": [
    "lenguajes3 = cantidad3[\"denominacion\"].head(15)\n",
    "seaborn.catplot(x=\"denominacion\", y=\"mean\", data=cantidad3, kind=\"bar\", legend=True,height=5, aspect=4/1, order=lenguajes3)"
   ]
  },
  {
   "cell_type": "markdown",
   "metadata": {
    "id": "buvc9CBT3RT0"
   },
   "source": [
    "#Martin Rodriguez"
   ]
  },
  {
   "cell_type": "code",
   "execution_count": null,
   "metadata": {
    "id": "fXGB4B5Zx0an"
   },
   "outputs": [],
   "source": [
    "#inicialización de variable para Martin R.\n",
    "df_martin_r=zeros_salary_monthly_NETO.copy()\n",
    "salary_col='salary_monthly_NETO'"
   ]
  },
  {
   "cell_type": "markdown",
   "metadata": {
    "id": "RfCAbjhx2WoF"
   },
   "source": [
    "##Tendencia central"
   ]
  },
  {
   "cell_type": "code",
   "execution_count": null,
   "metadata": {
    "colab": {
     "base_uri": "https://localhost:8080/"
    },
    "id": "fHSWQ9Q32nR1",
    "outputId": "4131ecb6-e4f0-4d46-9596-6ac39f041a22"
   },
   "outputs": [],
   "source": [
    "#análisis incial de los datos\n",
    "df_martin_r[salary_col].describe().apply(lambda s: '{0:.2f}'.format(s))"
   ]
  },
  {
   "cell_type": "code",
   "execution_count": null,
   "metadata": {
    "colab": {
     "base_uri": "https://localhost:8080/"
    },
    "id": "1hLdRrhBxIyP",
    "outputId": "ce6f1dc2-2d00-4fed-8f13-d34840e018db"
   },
   "outputs": [],
   "source": [
    "df_martin_r[salary_col].mean(), df_martin_r[salary_col].median()"
   ]
  },
  {
   "cell_type": "markdown",
   "metadata": {
    "id": "dUkNPrBOySSA"
   },
   "source": [
    "Siendo que la media y mediana dan muy distintas, y además aún tenemos mínimos muy extraños (13?) evaluo esos extremos. Una media > mediana, indica un sesgo o asimetría hacia la derecha."
   ]
  },
  {
   "cell_type": "code",
   "execution_count": null,
   "metadata": {
    "id": "WUt3rOrwzYOx"
   },
   "outputs": [],
   "source": [
    "#que son lo valores pequeños que no tienen sentido para un salario?\n",
    "df[df['salary_monthly_NETO']<1000]"
   ]
  },
  {
   "cell_type": "markdown",
   "metadata": {
    "id": "WVT3Tj3Q0aAC"
   },
   "source": [
    "Si analizamos los salarios menores que mil vamos a encontrar que se cargaron con un . indicando la unidad de 1000 y para python es una ','. Procedemos a arreglar esto.**PERO NO SE COMO SE HACE**"
   ]
  },
  {
   "cell_type": "code",
   "execution_count": null,
   "metadata": {
    "colab": {
     "base_uri": "https://localhost:8080/"
    },
    "id": "AQjjE83g0zKf",
    "outputId": "6607a721-1a6c-4f3e-da60-8a7763ff1049"
   },
   "outputs": [],
   "source": [
    "df_salario_correccion_unidad = df[df['salary_monthly_NETO']<1000]\n",
    "df_salario_correccion_unidad=df_salario_correccion_unidad['salary_monthly_NETO'].replace('.',' ',regex=False)\n",
    "df_salario_correccion_unidad"
   ]
  },
  {
   "cell_type": "markdown",
   "metadata": {
    "id": "wj8dwX391yG5"
   },
   "source": [
    "##Análisis usando Histrograma\n",
    "\n",
    "Me parece que hay que comenzar por analizar los sueldos de manera global, identificar outliers y ver como se distribuye. Ahí ir a los lenguajes y verificar si los valores son lógicos o es un lenguage influenciado por pocos datos quizás u otro tema. "
   ]
  },
  {
   "cell_type": "code",
   "execution_count": null,
   "metadata": {
    "id": "FCHIwHyf-ep6"
   },
   "outputs": [],
   "source": [
    "#histograma"
   ]
  },
  {
   "cell_type": "markdown",
   "metadata": {
    "id": "IcndY7L_3YQm"
   },
   "source": [
    "##Análisis usando Boxplot"
   ]
  },
  {
   "cell_type": "code",
   "execution_count": null,
   "metadata": {
    "id": "ikYOzAOv3Wpm"
   },
   "outputs": [],
   "source": [
    "df_martin_r[:3]"
   ]
  },
  {
   "cell_type": "markdown",
   "metadata": {
    "id": "QdjUQe1e6N2K"
   },
   "source": [
    "Elimación de valores extremos"
   ]
  },
  {
   "cell_type": "code",
   "execution_count": null,
   "metadata": {
    "colab": {
     "base_uri": "https://localhost:8080/"
    },
    "id": "h-toOhya6Ric",
    "outputId": "ee88bb57-21cf-4431-ac2b-81ea226249da"
   },
   "outputs": [],
   "source": [
    "k = 90\n",
    "percentile_90 = df[salary_col].quantile(k / 100)\n",
    "n_below = len(df[df[salary_col] < percentile_90])\n",
    "n_above = len(df[df[salary_col] > percentile_90])\n",
    "print('Percentil {} de la columna {}: {}'.format(k, salary_col, percentile_90))\n",
    "print('% de datos menor que percentil {}: {}'.format(k, n_below / len(df)))\n",
    "print('% de datos mayor que percentil {}: {}'.format(k, n_above / len(df)))"
   ]
  },
  {
   "cell_type": "code",
   "execution_count": null,
   "metadata": {
    "colab": {
     "base_uri": "https://localhost:8080/"
    },
    "id": "nAR_hMRd6yuI",
    "outputId": "e28a6705-5056-4b2d-8eb2-f8e3d884d1b0"
   },
   "outputs": [],
   "source": [
    "df[salary_col].quantile([.95, .98, .99, .995, .998])"
   ]
  },
  {
   "cell_type": "code",
   "execution_count": null,
   "metadata": {
    "colab": {
     "base_uri": "https://localhost:8080/"
    },
    "id": "jwksLsY57y3T",
    "outputId": "c262109f-2eb0-4525-c55f-20c389e9add0"
   },
   "outputs": [],
   "source": [
    "df_martin_r_under_p90=df_martin_r[df_martin_r[salary_col]<percentile_90].copy()\n",
    "df_martin_r_under_p90.count()"
   ]
  },
  {
   "cell_type": "markdown",
   "metadata": {
    "id": "TGzO_BvY8kwf"
   },
   "source": [
    "Seleccion de los lenguajes más relevantes"
   ]
  },
  {
   "cell_type": "code",
   "execution_count": null,
   "metadata": {
    "colab": {
     "base_uri": "https://localhost:8080/",
     "height": 347
    },
    "id": "VOCfXn5d8o4-",
    "outputId": "20366b77-822f-420b-e4b6-008adf73da95"
   },
   "outputs": [],
   "source": [
    "#criterio 1: los que más datos tienen\n",
    "language_count_aux = df_martin_r_under_p90.programming_language.value_counts()\\\n",
    "    .reset_index()\\\n",
    "    .rename(columns={'index': 'language', 'programming_language': 'frequency'})\n",
    "most_important_lang=language_count_aux[:10]\n",
    "most_important_lang"
   ]
  },
  {
   "cell_type": "code",
   "execution_count": null,
   "metadata": {
    "colab": {
     "base_uri": "https://localhost:8080/"
    },
    "id": "jm3gzAEMALMD",
    "outputId": "ea9ec47a-17ac-4679-e280-75ed0697d3d7"
   },
   "outputs": [],
   "source": [
    "#Necesito una manera más alegante de transformar a una serie los most_important_lang\n",
    "lenguajes_mas_representativos=['javascript','php','html','sql','css','java']\n",
    "df_with_most_representat_language=df_martin_r_under_p90[df_martin_r_under_p90.programming_language.isin(lenguajes_mas_representativos)].copy()\n",
    "df_with_most_representat_language.count()"
   ]
  },
  {
   "cell_type": "code",
   "execution_count": null,
   "metadata": {
    "colab": {
     "base_uri": "https://localhost:8080/",
     "height": 410
    },
    "id": "rYteyqWU3_jj",
    "outputId": "587d671a-5ad6-4e4f-b7a4-ce4365e9b57d"
   },
   "outputs": [],
   "source": [
    "plt.figure(figsize=(12, 6))\n",
    "seaborn.boxenplot(data=df_with_most_representat_language, x='salary_monthly_NETO', y='programming_language',color='orangered')\n",
    "plt.ticklabel_format(style='plain', axis='x')"
   ]
  }
 ],
 "metadata": {
  "colab": {
   "collapsed_sections": [
    "G6mLjPITUt_v"
   ],
   "name": "Copia de TP_Parte1.ipynb",
   "provenance": []
  },
  "kernelspec": {
   "display_name": "Python 3",
   "language": "python",
   "name": "python3"
  },
  "language_info": {
   "codemirror_mode": {
    "name": "ipython",
    "version": 3
   },
   "file_extension": ".py",
   "mimetype": "text/x-python",
   "name": "python",
   "nbconvert_exporter": "python",
   "pygments_lexer": "ipython3",
   "version": "3.7.5"
  }
 },
 "nbformat": 4,
 "nbformat_minor": 4
}
